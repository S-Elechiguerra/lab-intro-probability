{
 "cells": [
  {
   "cell_type": "markdown",
   "metadata": {},
   "source": [
    "# Lab | Intro to Probability"
   ]
  },
  {
   "cell_type": "markdown",
   "metadata": {},
   "source": [
    "**Objective**\n",
    "\n",
    "Welcome to this Intro to Probability lab, where we explore decision-making scenarios through the lens of probability and strategic analysis. In the business world, making informed decisions is crucial, especially when faced with uncertainties. This lab focuses on scenarios where probabilistic outcomes play a significant role in shaping strategies and outcomes. Students will engage in exercises that require assessing and choosing optimal paths based on data-driven insights. The goal is to enhance your skills by applying probability concepts to solve real-world problems."
   ]
  },
  {
   "cell_type": "markdown",
   "metadata": {},
   "source": [
    "**Challenge 1**"
   ]
  },
  {
   "cell_type": "markdown",
   "metadata": {},
   "source": [
    "#### Ironhack Airlines \n",
    "\n",
    "Often Airlines sell more tickets than they have seats available, this is called overbooking. Consider the following:\n",
    "- A plane has 450 seats. \n",
    "- Based on historical data we conclude that each individual passenger has a 3% chance of missing it's flight. \n",
    "\n",
    "If the Ironhack Airlines routinely sells 460 tickets, what is the chance that they have a seats for all passenger?"
   ]
  },
  {
   "cell_type": "code",
   "execution_count": 8,
   "metadata": {},
   "outputs": [
    {
     "name": "stdout",
     "output_type": "stream",
     "text": [
      "Probability that there are enough seats: 0.8505\n"
     ]
    }
   ],
   "source": [
    "import scipy.stats as stats\n",
    "import numpy as np\n",
    "\n",
    "# Parameters for the binomial distribution\n",
    "n_tickets = 460  # Number of tickets sold\n",
    "p_miss = 0.03    # Probability that a passenger misses the flight\n",
    "seats_available = 450  # Number of seats on the plane\n",
    "\n",
    "# Mean and standard deviation for the normal approximation\n",
    "mean_miss = n_tickets * p_miss\n",
    "std_miss = np.sqrt(n_tickets * p_miss * (1 - p_miss))\n",
    "\n",
    "# We want to find the probability that 10 or more passengers miss the flight\n",
    "z_score = (10 - mean_miss) / std_miss  # Z-score for X >= 10\n",
    "\n",
    "# Using the cumulative distribution function (CDF) of the normal distribution\n",
    "probability_seats_for_all = 1 - stats.norm.cdf(z_score)\n",
    "\n",
    "print(f\"Probability that there are enough seats: {probability_seats_for_all:.4f}\")\n"
   ]
  },
  {
   "cell_type": "markdown",
   "metadata": {},
   "source": [
    "**Challenge 2**"
   ]
  },
  {
   "cell_type": "markdown",
   "metadata": {},
   "source": [
    "#### Ironhack Call Center "
   ]
  },
  {
   "cell_type": "markdown",
   "metadata": {},
   "source": [
    "Suppose a customer service representative at a call center is handling customer complaints. Consider the following:\n",
    "- The probability of successfully resolving a customer complaint on the first attempt is 0.3. \n",
    "\n",
    "\n",
    "What is the probability that the representative needs to make at least three attempts before successfully resolving a customer complaint?"
   ]
  },
  {
   "cell_type": "code",
   "execution_count": 9,
   "metadata": {},
   "outputs": [
    {
     "name": "stdout",
     "output_type": "stream",
     "text": [
      "Probability of needing at least 3 attempts: 0.4900\n"
     ]
    }
   ],
   "source": [
    "# Parameters for the geometric distribution\n",
    "p_success = 0.3  # Probability of resolving the complaint on any given attempt\n",
    "\n",
    "# Probability of needing at least 3 attempts (fail first 2 times)\n",
    "probability_at_least_three_attempts = (1 - p_success) ** 2\n",
    "\n",
    "print(f\"Probability of needing at least 3 attempts: {probability_at_least_three_attempts:.4f}\")\n"
   ]
  },
  {
   "cell_type": "markdown",
   "metadata": {},
   "source": [
    "**Challenge 3**"
   ]
  },
  {
   "cell_type": "markdown",
   "metadata": {},
   "source": [
    "#### Ironhack Website"
   ]
  },
  {
   "cell_type": "markdown",
   "metadata": {},
   "source": [
    "Consider a scenario related to Ironhack website traffic. Where:\n",
    "- our website takes on average 500 visits per hour.\n",
    "- the website's server is designed to handle up to 550 vists per hour.\n",
    "\n",
    "\n",
    "What is the probability of the website server being overwhelmed?"
   ]
  },
  {
   "cell_type": "code",
   "execution_count": 10,
   "metadata": {},
   "outputs": [
    {
     "name": "stdout",
     "output_type": "stream",
     "text": [
      "Probability of the server being overwhelmed: 0.0129\n"
     ]
    }
   ],
   "source": [
    "import scipy.stats as stats\n",
    "\n",
    "# Parameters for the Poisson distribution\n",
    "lambda_visits = 500  # average number of visits per hour\n",
    "server_capacity = 550  # maximum visits server can handle\n",
    "\n",
    "# Probability that the server gets overwhelmed (more than 550 visits)\n",
    "probability_overwhelmed = 1 - stats.poisson.cdf(server_capacity, lambda_visits)\n",
    "\n",
    "print(f\"Probability of the server being overwhelmed: {probability_overwhelmed:.4f}\")\n"
   ]
  },
  {
   "cell_type": "markdown",
   "metadata": {},
   "source": [
    "What is the probability of being overwhelmed at some point during a day? (consider 24hours)"
   ]
  },
  {
   "cell_type": "code",
   "execution_count": 11,
   "metadata": {},
   "outputs": [
    {
     "name": "stdout",
     "output_type": "stream",
     "text": [
      "Probability of the server being overwhelmed at least once during a day: 0.2677\n"
     ]
    }
   ],
   "source": [
    "# Probability of being overwhelmed in one hour (from the previous problem)\n",
    "probability_overwhelmed_one_hour = 1 - stats.poisson.cdf(server_capacity, lambda_visits)\n",
    "\n",
    "# Probability of not being overwhelmed in one hour\n",
    "probability_not_overwhelmed_one_hour = 1 - probability_overwhelmed_one_hour\n",
    "\n",
    "# Probability of not being overwhelmed in 24 hours\n",
    "probability_not_overwhelmed_24_hours = probability_not_overwhelmed_one_hour ** 24\n",
    "\n",
    "# Probability of being overwhelmed at least once in 24 hours\n",
    "probability_overwhelmed_24_hours = 1 - probability_not_overwhelmed_24_hours\n",
    "\n",
    "print(f\"Probability of the server being overwhelmed at least once during a day: {probability_overwhelmed_24_hours:.4f}\")\n"
   ]
  },
  {
   "cell_type": "markdown",
   "metadata": {},
   "source": [
    "**Challenge 4**"
   ]
  },
  {
   "cell_type": "markdown",
   "metadata": {},
   "source": [
    "#### Ironhack Helpdesk"
   ]
  },
  {
   "cell_type": "markdown",
   "metadata": {},
   "source": [
    "Consider a scenario related to the time between arrivals of customers at a service desk.\n",
    "\n",
    "On average, a customers arrives every 10minutes.\n",
    "\n",
    "What is the probability that the next customer will arrive within the next 5 minutes?"
   ]
  },
  {
   "cell_type": "code",
   "execution_count": 12,
   "metadata": {},
   "outputs": [
    {
     "name": "stdout",
     "output_type": "stream",
     "text": [
      "Probability of the next customer arriving within 5 minutes: 0.3935\n"
     ]
    }
   ],
   "source": [
    "import numpy as np\n",
    "\n",
    "# Parameters\n",
    "lambda_rate = 1 / 10  # 1 arrival every 10 minutes\n",
    "time_interval = 5  # we are interested in the probability of arrival within 5 minutes\n",
    "\n",
    "# Probability of next customer arriving within 5 minutes\n",
    "probability_within_5_minutes = 1 - np.exp(-lambda_rate * time_interval)\n",
    "\n",
    "print(f\"Probability of the next customer arriving within 5 minutes: {probability_within_5_minutes:.4f}\")\n"
   ]
  },
  {
   "cell_type": "markdown",
   "metadata": {},
   "source": [
    "If there is no customer for 15minutes, employees can that a 5minutes break.\n",
    "\n",
    "What is the probability an employee taking a break?"
   ]
  },
  {
   "cell_type": "code",
   "execution_count": 13,
   "metadata": {},
   "outputs": [
    {
     "name": "stdout",
     "output_type": "stream",
     "text": [
      "Probability of taking a break (no customer in 15 minutes): 0.2231\n"
     ]
    }
   ],
   "source": [
    "# Parameters\n",
    "time_no_customers = 15  # Time without customers before a break\n",
    "lambda_rate = 1 / 10  # 1 arrival every 10 minutes\n",
    "\n",
    "# Probability of no customer arriving in 15 minutes (so a break can be taken)\n",
    "probability_no_customer_15_minutes = np.exp(-lambda_rate * time_no_customers)\n",
    "\n",
    "print(f\"Probability of taking a break (no customer in 15 minutes): {probability_no_customer_15_minutes:.4f}\")\n"
   ]
  },
  {
   "cell_type": "markdown",
   "metadata": {},
   "source": [
    "**Challenge 5**"
   ]
  },
  {
   "cell_type": "markdown",
   "metadata": {},
   "source": [
    "The weights of a certain species of birds follow a normal distribution with a mean weight of 150 grams and a standard deviation of 10 grams. \n",
    "\n",
    "- If we randomly select a bird, what is the probability that its weight is between 140 and 160 grams?"
   ]
  },
  {
   "cell_type": "code",
   "execution_count": 14,
   "metadata": {},
   "outputs": [
    {
     "name": "stdout",
     "output_type": "stream",
     "text": [
      "The probability that a randomly selected bird weighs between 140 and 160 grams is: 0.6827\n"
     ]
    }
   ],
   "source": [
    "import scipy.stats as stats\n",
    "\n",
    "# Parameters for the normal distribution\n",
    "mean_weight = 150  # mean weight in grams\n",
    "std_dev_weight = 10  # standard deviation in grams\n",
    "\n",
    "# Calculate the probability of a bird weighing between 140 and 160 grams\n",
    "lower_bound = 140\n",
    "upper_bound = 160\n",
    "\n",
    "# Use the CDF to find the probabilities\n",
    "probability = stats.norm.cdf(upper_bound, mean_weight, std_dev_weight) - stats.norm.cdf(lower_bound, mean_weight, std_dev_weight)\n",
    "\n",
    "print(f\"The probability that a randomly selected bird weighs between {lower_bound} and {upper_bound} grams is: {probability:.4f}\")\n"
   ]
  },
  {
   "cell_type": "markdown",
   "metadata": {},
   "source": [
    "**Challenge 6**"
   ]
  },
  {
   "cell_type": "markdown",
   "metadata": {},
   "source": [
    "If the lifetime (in hours) of a certain electronic component follows an exponential distribution with a mean lifetime of 50 hours, what is the probability that the component fails within the first 30 hours?"
   ]
  },
  {
   "cell_type": "code",
   "execution_count": 15,
   "metadata": {},
   "outputs": [
    {
     "name": "stdout",
     "output_type": "stream",
     "text": [
      "The probability that the component fails within the first 30 hours is: 0.4512\n"
     ]
    }
   ],
   "source": [
    "import numpy as np\n",
    "\n",
    "# Mean lifetime in hours\n",
    "mean_lifetime = 50\n",
    "\n",
    "# Rate parameter (lambda)\n",
    "lambda_param = 1 / mean_lifetime\n",
    "\n",
    "# Time to check\n",
    "time = 30\n",
    "\n",
    "# Calculate the probability that the component fails within the first 30 hours\n",
    "probability = 1 - np.exp(-lambda_param * time)\n",
    "\n",
    "print(f\"The probability that the component fails within the first {time} hours is: {probability:.4f}\")\n"
   ]
  }
 ],
 "metadata": {
  "kernelspec": {
   "display_name": "Python 3",
   "language": "python",
   "name": "python3"
  },
  "language_info": {
   "codemirror_mode": {
    "name": "ipython",
    "version": 3
   },
   "file_extension": ".py",
   "mimetype": "text/x-python",
   "name": "python",
   "nbconvert_exporter": "python",
   "pygments_lexer": "ipython3",
   "version": "3.11.9"
  }
 },
 "nbformat": 4,
 "nbformat_minor": 2
}
